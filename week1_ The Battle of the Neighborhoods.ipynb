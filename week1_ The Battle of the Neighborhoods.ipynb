{
    "cells": [
        {
            "cell_type": "markdown",
            "metadata": {
                "collapsed": true
            },
            "source": "## Week 1"
        },
        {
            "cell_type": "markdown",
            "metadata": {},
            "source": "## Introduction/Business Problem \nIn this section I will clearly define the idea of my choosing, where I leverage the Foursquare location data to solve the imagined business opportunity."
        },
        {
            "cell_type": "markdown",
            "metadata": {},
            "source": "### Background\n\nThere are 10000's, of travel sites on the Internet, including FourSquare, that will tell you all about places to go, things to see, restaurants to eat at, bars to drink in, nightclubs to part the night away in and then where to go in the morning to get breakfast and a strong coffee. The problems with these sites is that they are one dimensional. If you want to find out all this information about a city you plan to visit next month, you have to do the hard work. Also, just because a venue is the hottest place to go for a night out does not always mean that the unwitting tourist should just ramble in unprepared. The areas surrounding this new venue might be riddled with crime including muggings, car theft and assault, for example. Approach the venue from any direction other than from the north and you could be putting your life in danger. This is when my idea comes in.\n"
        },
        {
            "cell_type": "markdown",
            "metadata": {},
            "source": "### Plan for below scenario \n\n1. You like to plan ahead and always review your options and make your choices about where you will visit and eat up front before you travel.\n2. You are flying to Chicogo for a Data Science Conference.\n3. You arrive in Chicago the day the conference starts but you've managed to convince your boss to delay your return by a few days giving you time to explore.\n4. But you know no one in Chicago to show you around to all the top sites and to bring you to the best restaurants.\n5. Also the last time you went to a conference you were mugged and had you passport. money and credit cards stolen so you're now nervous of going somewhere without first researching the venue and the surrounding area.\n6. The conference is next week and you don't have time to do all the research you'd like."
        },
        {
            "cell_type": "markdown",
            "metadata": {},
            "source": "### Main Idea \nMy idea for the Capstone Project is to show that when driven by venue and location data from FourSquare, backed up with open source crime data, \nthat it is possible to present the cautious and nervous traveller with a list of attractions to visit supplementd with a graphics showing the occurance of crime in the region of the venue."
        },
        {
            "cell_type": "markdown",
            "metadata": {},
            "source": "### Following below Approch \n\na. The travellers decides on a city location (Chicago,IL)\nb. The ForeSquare website is scrapped for the top venues in the city\nc. From this list of top venues the list is augmented with additional grographical data\nd. Using this additional geographical data the top nearby restaurents are selects\ne. The historical crime within a predetermined distance of all venues are obtained\nf. A map is presented to the to the traveller showing the selected venues and crime statistics of the area.\ng. The future probability of a crime happening near or around the selected top sites is also presented to the user"
        },
        {
            "cell_type": "markdown",
            "metadata": {},
            "source": "### Cautious information for travellers in the city of chicago \n\nThis solution is targeted at the cautious traveller. The want to see all the main sites of a city that they have never visited before but at the same time, for whatever reaons unknown, \nthey want to be able to do all that they can to make sure that they stay clear of trouble i.e. is it safe to visit this venue and this restaurant at 4:00 pm in the afternoon."
        },
        {
            "cell_type": "markdown",
            "metadata": {},
            "source": " ### Project focused users :\n\n1.A single white female traveller\n2. An elderly traveller that has had previous back experiences when travelling\n\nThere are many data science aspect of this project including:\n\nData Acquisition\nData Cleansing\nData Analysis\nMachine Learning\nPrediction\n\nNow that the conference is over the Data Sceintist can explore Chigago and feel much safer."
        }
    ],
    "metadata": {
        "kernelspec": {
            "display_name": "Python 3.6",
            "language": "python",
            "name": "python3"
        },
        "language_info": {
            "codemirror_mode": {
                "name": "ipython",
                "version": 3
            },
            "file_extension": ".py",
            "mimetype": "text/x-python",
            "name": "python",
            "nbconvert_exporter": "python",
            "pygments_lexer": "ipython3",
            "version": "3.6.8"
        }
    },
    "nbformat": 4,
    "nbformat_minor": 1
}